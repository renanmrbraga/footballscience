{
 "cells": [
  {
   "cell_type": "code",
   "execution_count": 20,
   "metadata": {},
   "outputs": [],
   "source": [
    "import pandas as pd\n",
    "import os\n",
    "import re\n",
    "from dotenv import load_dotenv, find_dotenv"
   ]
  },
  {
   "cell_type": "code",
   "execution_count": 21,
   "metadata": {},
   "outputs": [],
   "source": [
    "# Carrega as variáveis de ambiente\n",
    "load_dotenv(find_dotenv())\n",
    "\n",
    "# Configuração dos arquivos\n",
    "ARQUIVO_BRASILEIRAO_RAW = os.getenv(\"ARQUIVO_BRASILEIRAO_RAW\")  # CSV com as transferências extraídas"
   ]
  },
  {
   "cell_type": "code",
   "execution_count": 22,
   "metadata": {},
   "outputs": [
    {
     "name": "stdout",
     "output_type": "stream",
     "text": [
      "<class 'pandas.core.frame.DataFrame'>\n",
      "RangeIndex: 200 entries, 0 to 199\n",
      "Data columns (total 11 columns):\n",
      " #   Column     Non-Null Count  Dtype \n",
      "---  ------     --------------  ----- \n",
      " 0   Pos        200 non-null    int64 \n",
      " 1   Equipevde  200 non-null    object\n",
      " 2   Pts        200 non-null    object\n",
      " 3   J          200 non-null    int64 \n",
      " 4   V          200 non-null    int64 \n",
      " 5   E          200 non-null    int64 \n",
      " 6   D          200 non-null    int64 \n",
      " 7   GP         200 non-null    int64 \n",
      " 8   GC         200 non-null    int64 \n",
      " 9   SG         200 non-null    object\n",
      " 10  Ano        200 non-null    int64 \n",
      "dtypes: int64(8), object(3)\n",
      "memory usage: 17.3+ KB\n"
     ]
    }
   ],
   "source": [
    "# Carregar o CSV\n",
    "df = pd.read_csv(ARQUIVO_BRASILEIRAO_RAW, sep=\";\")\n",
    "\n",
    "# Exibir as primeiras linhas do DataFrame\n",
    "df.info()"
   ]
  }
 ],
 "metadata": {
  "kernelspec": {
   "display_name": "venv",
   "language": "python",
   "name": "python3"
  },
  "language_info": {
   "codemirror_mode": {
    "name": "ipython",
    "version": 3
   },
   "file_extension": ".py",
   "mimetype": "text/x-python",
   "name": "python",
   "nbconvert_exporter": "python",
   "pygments_lexer": "ipython3",
   "version": "3.12.3"
  }
 },
 "nbformat": 4,
 "nbformat_minor": 2
}
