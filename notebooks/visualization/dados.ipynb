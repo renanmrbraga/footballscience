{
 "cells": [
  {
   "cell_type": "code",
   "execution_count": 1,
   "metadata": {},
   "outputs": [],
   "source": [
    "import pandas as pd\n",
    "import os\n",
    "import re\n",
    "from dotenv import load_dotenv, find_dotenv"
   ]
  },
  {
   "cell_type": "code",
   "execution_count": 2,
   "metadata": {},
   "outputs": [],
   "source": [
    "# Carrega as variáveis de ambiente\n",
    "load_dotenv(find_dotenv())\n",
    "\n",
    "# Configuração dos arquivos\n",
    "ARQUIVO_TRANSFERENCIAS_RAW = os.getenv(\"ARQUIVO_TRANSFERENCIAS_RAW\")                  # CSV com as transferências extraídas\n",
    "ARQUIVO_BRASILEIRAO_RAW = os.getenv(\"ARQUIVO_BRASILEIRAO_RAW\")                        # CSV com a classificação do brasileiro extraídas\n",
    "ARQUIVO_CLUBES_RAW = os.getenv(\"ARQUIVO_CLUBES_RAW\")                                  # CSV com os clubes extraídos\n",
    "ARQUIVO_TRANSFERENCIAS_PROCESSED = os.getenv(\"ARQUIVO_TRANSFERENCIAS_PROCESSED\")      # CSV com as transferências tratadas\n",
    "ARQUIVO_BRASILEIRAO_PROCESSED = os.getenv(\"ARQUIVO_BRASILEIRAO_PROCESSED\")            # CSV com a classificação do brasileiro extraídas\n",
    "ARQUIVO_CLUBES_PROCESSED = os.getenv(\"ARQUIVO_CLUBES_PROCESSED\")                      # CSV com os clubes extraídos"
   ]
  },
  {
   "cell_type": "code",
   "execution_count": 3,
   "metadata": {},
   "outputs": [
    {
     "name": "stdout",
     "output_type": "stream",
     "text": [
      "<class 'pandas.core.frame.DataFrame'>\n",
      "RangeIndex: 27904 entries, 0 to 27903\n",
      "Data columns (total 6 columns):\n",
      " #   Column          Non-Null Count  Dtype \n",
      "---  ------          --------------  ----- \n",
      " 0   Temporada       27904 non-null  object\n",
      " 1   Clube_ID        27904 non-null  int64 \n",
      " 2   Tipo            27904 non-null  object\n",
      " 3   Player          27904 non-null  object\n",
      " 4   Origem_Destino  27904 non-null  object\n",
      " 5   Transfer Sum    27904 non-null  object\n",
      "dtypes: int64(1), object(5)\n",
      "memory usage: 1.3+ MB\n"
     ]
    }
   ],
   "source": [
    "# Carregar o CSV\n",
    "df = pd.read_csv(ARQUIVO_TRANSFERENCIAS_RAW, sep=\";\")\n",
    "\n",
    "# Exibir as primeiras linhas do DataFrame\n",
    "df.info()"
   ]
  },
  {
   "cell_type": "code",
   "execution_count": 4,
   "metadata": {},
   "outputs": [
    {
     "name": "stdout",
     "output_type": "stream",
     "text": [
      "<class 'pandas.core.frame.DataFrame'>\n",
      "RangeIndex: 27904 entries, 0 to 27903\n",
      "Data columns (total 7 columns):\n",
      " #   Column          Non-Null Count  Dtype  \n",
      "---  ------          --------------  -----  \n",
      " 0   ID              27904 non-null  int64  \n",
      " 1   Clube_ID        27904 non-null  int64  \n",
      " 2   Tipo            27904 non-null  object \n",
      " 3   Origem_Destino  27904 non-null  object \n",
      " 4   Valor           27904 non-null  float64\n",
      " 5   Empréstimo      27904 non-null  object \n",
      " 6   Ano             27904 non-null  int64  \n",
      "dtypes: float64(1), int64(3), object(3)\n",
      "memory usage: 1.5+ MB\n"
     ]
    }
   ],
   "source": [
    "# Carregar o CSV\n",
    "df = pd.read_csv(ARQUIVO_TRANSFERENCIAS_PROCESSED, sep=\";\")\n",
    "\n",
    "# Exibir as primeiras linhas do DataFrame\n",
    "df.info()"
   ]
  },
  {
   "cell_type": "code",
   "execution_count": 5,
   "metadata": {},
   "outputs": [
    {
     "name": "stdout",
     "output_type": "stream",
     "text": [
      "<class 'pandas.core.frame.DataFrame'>\n",
      "RangeIndex: 200 entries, 0 to 199\n",
      "Data columns (total 11 columns):\n",
      " #   Column     Non-Null Count  Dtype \n",
      "---  ------     --------------  ----- \n",
      " 0   Pos        200 non-null    int64 \n",
      " 1   Equipevde  200 non-null    object\n",
      " 2   Pts        200 non-null    object\n",
      " 3   J          200 non-null    int64 \n",
      " 4   V          200 non-null    int64 \n",
      " 5   E          200 non-null    int64 \n",
      " 6   D          200 non-null    int64 \n",
      " 7   GP         200 non-null    int64 \n",
      " 8   GC         200 non-null    int64 \n",
      " 9   SG         200 non-null    object\n",
      " 10  Ano        200 non-null    int64 \n",
      "dtypes: int64(8), object(3)\n",
      "memory usage: 17.3+ KB\n"
     ]
    }
   ],
   "source": [
    "# Carregar o CSV\n",
    "df = pd.read_csv(ARQUIVO_BRASILEIRAO_RAW, sep=\";\")\n",
    "\n",
    "# Exibir as primeiras linhas do DataFrame\n",
    "df.info()"
   ]
  },
  {
   "cell_type": "code",
   "execution_count": 6,
   "metadata": {},
   "outputs": [
    {
     "name": "stdout",
     "output_type": "stream",
     "text": [
      "<class 'pandas.core.frame.DataFrame'>\n",
      "RangeIndex: 200 entries, 0 to 199\n",
      "Data columns (total 12 columns):\n",
      " #   Column    Non-Null Count  Dtype \n",
      "---  ------    --------------  ----- \n",
      " 0   ID        200 non-null    int64 \n",
      " 1   Posição   200 non-null    int64 \n",
      " 2   Clube     200 non-null    object\n",
      " 3   Pontos    200 non-null    int64 \n",
      " 4   Jogos     200 non-null    int64 \n",
      " 5   Vitórias  200 non-null    int64 \n",
      " 6   Empates   200 non-null    int64 \n",
      " 7   Derrotas  200 non-null    int64 \n",
      " 8   GP        200 non-null    int64 \n",
      " 9   GC        200 non-null    int64 \n",
      " 10  SG        200 non-null    int64 \n",
      " 11  Ano       200 non-null    int64 \n",
      "dtypes: int64(11), object(1)\n",
      "memory usage: 18.9+ KB\n"
     ]
    }
   ],
   "source": [
    "# Carregar o CSV\n",
    "df = pd.read_csv(ARQUIVO_BRASILEIRAO_PROCESSED, sep=\";\")\n",
    "\n",
    "# Exibir as primeiras linhas do DataFrame\n",
    "df.info()"
   ]
  },
  {
   "cell_type": "code",
   "execution_count": 7,
   "metadata": {},
   "outputs": [
    {
     "name": "stdout",
     "output_type": "stream",
     "text": [
      "<class 'pandas.core.frame.DataFrame'>\n",
      "RangeIndex: 35 entries, 0 to 34\n",
      "Data columns (total 6 columns):\n",
      " #   Column                Non-Null Count  Dtype  \n",
      "---  ------                --------------  -----  \n",
      " 0   ID                    35 non-null     int64  \n",
      " 1   Nome_Oficial          35 non-null     object \n",
      " 2   Nome_Transfermarkt    35 non-null     object \n",
      " 3   Código_Transfermarkt  35 non-null     int64  \n",
      " 4   Nome_Sofascore        0 non-null      float64\n",
      " 5   Código_Sofascore      0 non-null      float64\n",
      "dtypes: float64(2), int64(2), object(2)\n",
      "memory usage: 1.8+ KB\n"
     ]
    }
   ],
   "source": [
    "# Carregar o CSV\n",
    "df = pd.read_csv(ARQUIVO_CLUBES_RAW, sep=\";\")\n",
    "\n",
    "# Exibir as primeiras linhas do DataFrame\n",
    "df.info()"
   ]
  },
  {
   "cell_type": "code",
   "execution_count": 8,
   "metadata": {},
   "outputs": [
    {
     "name": "stdout",
     "output_type": "stream",
     "text": [
      "<class 'pandas.core.frame.DataFrame'>\n",
      "RangeIndex: 35 entries, 0 to 34\n",
      "Data columns (total 33 columns):\n",
      " #   Column                        Non-Null Count  Dtype  \n",
      "---  ------                        --------------  -----  \n",
      " 0   ID                            35 non-null     int64  \n",
      " 1   Nome Oficial                  35 non-null     object \n",
      " 2   Participacoes_SerieA          35 non-null     int64  \n",
      " 3   Rebaixamentos                 35 non-null     int64  \n",
      " 4   Media_Pontos                  35 non-null     float64\n",
      " 5   Aproveitamento(%)             35 non-null     float64\n",
      " 6   Ultimo_Ano_SerieA             33 non-null     float64\n",
      " 7   Media_Pontos_Ult3anos         35 non-null     float64\n",
      " 8   Posicao_Media_Ult3anos        33 non-null     float64\n",
      " 9   Compras_Total_R$              35 non-null     float64\n",
      " 10  Vendas_Total_R$               35 non-null     float64\n",
      " 11  Saldo_Transferencias_R$       35 non-null     float64\n",
      " 12  Participacoes_Internacionais  35 non-null     int64  \n",
      " 13  Pos_1                         35 non-null     int64  \n",
      " 14  Pos_2                         35 non-null     int64  \n",
      " 15  Pos_3                         35 non-null     int64  \n",
      " 16  Pos_4                         35 non-null     int64  \n",
      " 17  Pos_5                         35 non-null     int64  \n",
      " 18  Pos_6                         35 non-null     int64  \n",
      " 19  Pos_7                         35 non-null     int64  \n",
      " 20  Pos_8                         35 non-null     int64  \n",
      " 21  Pos_9                         35 non-null     int64  \n",
      " 22  Pos_10                        35 non-null     int64  \n",
      " 23  Pos_11                        35 non-null     int64  \n",
      " 24  Pos_12                        35 non-null     int64  \n",
      " 25  Pos_13                        35 non-null     int64  \n",
      " 26  Pos_14                        35 non-null     int64  \n",
      " 27  Pos_15                        35 non-null     int64  \n",
      " 28  Pos_16                        35 non-null     int64  \n",
      " 29  Pos_17                        35 non-null     int64  \n",
      " 30  Pos_18                        35 non-null     int64  \n",
      " 31  Pos_19                        35 non-null     int64  \n",
      " 32  Pos_20                        35 non-null     int64  \n",
      "dtypes: float64(8), int64(24), object(1)\n",
      "memory usage: 9.2+ KB\n"
     ]
    }
   ],
   "source": [
    "# Carregar o CSV\n",
    "df = pd.read_csv(ARQUIVO_CLUBES_PROCESSED, sep=\";\")\n",
    "\n",
    "# Exibir as primeiras linhas do DataFrame\n",
    "df.info()"
   ]
  }
 ],
 "metadata": {
  "kernelspec": {
   "display_name": "venv",
   "language": "python",
   "name": "python3"
  },
  "language_info": {
   "codemirror_mode": {
    "name": "ipython",
    "version": 3
   },
   "file_extension": ".py",
   "mimetype": "text/x-python",
   "name": "python",
   "nbconvert_exporter": "python",
   "pygments_lexer": "ipython3",
   "version": "3.12.3"
  }
 },
 "nbformat": 4,
 "nbformat_minor": 2
}
